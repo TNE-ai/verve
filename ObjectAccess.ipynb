{
 "cells": [
  {
   "cell_type": "markdown",
   "id": "eba8126c-2f7b-4f45-8a52-4e79567ea8f1",
   "metadata": {},
   "source": [
    "# TNE Object Access SDK"
   ]
  },
  {
   "cell_type": "markdown",
   "id": "28a46b19-5fe8-40d0-b112-b648b10dbef8",
   "metadata": {},
   "source": [
    "## Initialize Session"
   ]
  },
  {
   "cell_type": "code",
   "execution_count": 1,
   "id": "e73f4a5c-cfc8-47f1-9bc8-3149143ab941",
   "metadata": {},
   "outputs": [],
   "source": [
    "from tne.TNE import TNE\n",
    "\n",
    "UID = \"114520153332760575553\"\n",
    "session = TNE(UID, \"bp-authoring-files\")"
   ]
  },
  {
   "cell_type": "markdown",
   "id": "6c518a3e-427c-43f5-8c52-a3ba1ac1d4a8",
   "metadata": {},
   "source": [
    "## List Bucket Contents"
   ]
  },
  {
   "cell_type": "code",
   "execution_count": 2,
   "id": "f6f5057e-c0fb-41eb-a140-bb2e2c0c043f",
   "metadata": {},
   "outputs": [
    {
     "data": {
      "text/plain": [
       "['442 Item.txt',\n",
       " '442 relevance prompt.txt',\n",
       " '442-subset-code-generator-instructions-2024-08-20.txt',\n",
       " '442-subset-code-generator-instructions-2024-08-26.txt',\n",
       " 'AirFreight.csv',\n",
       " 'AirFreightResults.csv',\n",
       " 'Alicia Air Down Vest SKU 822185635590.png',\n",
       " 'Artist_Painting_in_Sunlit_Studio_v1.png',\n",
       " 'Award_Statuette_Under_Starry_Sky_Ceremony_v1.png',\n",
       " 'Bears_in_City_Illustration_v2.png']"
      ]
     },
     "execution_count": 2,
     "metadata": {},
     "output_type": "execute_result"
    }
   ],
   "source": [
    "session.list_data()[:10]"
   ]
  },
  {
   "cell_type": "markdown",
   "id": "81394aa6-2cec-4648-be2b-4facf845d2dd",
   "metadata": {},
   "source": [
    "## Load Data\n",
    "### Supported types\n",
    "* CSV (as DataFrame)\n",
    "* Excel (as DataFrame)\n",
    "* Text (`.txt`, `.md`, etc.))\n",
    "* Images (`.jpg`, `.jpeg`, `.png`)\n",
    "* JSON\n",
    "* YAML"
   ]
  },
  {
   "cell_type": "code",
   "execution_count": null,
   "id": "dc46c925-4432-4c07-a077-608467958f3a",
   "metadata": {},
   "outputs": [],
   "source": [
    "csv_df = session.get_object(\"shopping_list_with_periods_cleaned.csv\")\n",
    "excel_df = session.get_object(\"shopping_list_cleaned.xlsx\")\n",
    "txt_file = session.get_object(\"442-subset-code-generator-instructions-2024-08-20.txt\")\n",
    "png_image = session.get_object(\"Award_Statuette_Under_Starry_Sky_Ceremony_v1.png\")"
   ]
  },
  {
   "cell_type": "code",
   "execution_count": null,
   "id": "4db5e653-4268-4c73-bb10-e24b03949545",
   "metadata": {},
   "outputs": [],
   "source": [
    "csv_df.head()"
   ]
  },
  {
   "cell_type": "code",
   "execution_count": null,
   "id": "385d8031-eaad-4427-a735-e772a35bacf8",
   "metadata": {},
   "outputs": [],
   "source": [
    "excel_df"
   ]
  },
  {
   "cell_type": "markdown",
   "id": "d4c8a809-eb84-42e7-98e0-445c8e58d449",
   "metadata": {},
   "source": [
    "### Direct bytes access\n",
    "\n",
    "For unsupported file extensions, `session.get_object()` will throw an error. In these cases, you can use `session.get_object_bytes()`."
   ]
  },
  {
   "cell_type": "code",
   "execution_count": null,
   "id": "de2ae310-5970-45f2-90af-1c7d47296a58",
   "metadata": {},
   "outputs": [],
   "source": [
    "try:\n",
    "    unsupported_file = session.get_object(\"debug.fake\")\n",
    "except ValueError as e:\n",
    "    print(e)"
   ]
  },
  {
   "cell_type": "code",
   "execution_count": null,
   "id": "01173a16-e4bd-49e3-9bdd-e7689190c508",
   "metadata": {},
   "outputs": [],
   "source": [
    "unsupported_file_bytes = session.get_object_bytes(\"debug.fake\")\n",
    "unsupported_file_text = unsupported_file_bytes.decode('utf-8')\n",
    "unsupported_file_text"
   ]
  }
 ],
 "metadata": {
  "kernelspec": {
   "display_name": "Python 3 (ipykernel)",
   "language": "python",
   "name": "python3"
  },
  "language_info": {
   "codemirror_mode": {
    "name": "ipython",
    "version": 3
   },
   "file_extension": ".py",
   "mimetype": "text/x-python",
   "name": "python",
   "nbconvert_exporter": "python",
   "pygments_lexer": "ipython3",
   "version": "3.11.9"
  }
 },
 "nbformat": 4,
 "nbformat_minor": 5
}
