{
 "cells": [
  {
   "cell_type": "markdown",
   "id": "eba8126c-2f7b-4f45-8a52-4e79567ea8f1",
   "metadata": {},
   "source": [
    "# TNE Object Access SDK"
   ]
  },
  {
   "cell_type": "markdown",
   "id": "28a46b19-5fe8-40d0-b112-b648b10dbef8",
   "metadata": {},
   "source": [
    "## Initialize Session"
   ]
  },
  {
   "cell_type": "code",
   "execution_count": 30,
   "id": "e73f4a5c-cfc8-47f1-9bc8-3149143ab941",
   "metadata": {},
   "outputs": [],
   "source": [
    "from tne.TNE import TNE\n",
    "\n",
    "UID = \"113131128239301637682\"\n",
    "session = TNE(UID)"
   ]
  },
  {
   "cell_type": "markdown",
   "id": "6c518a3e-427c-43f5-8c52-a3ba1ac1d4a8",
   "metadata": {},
   "source": [
    "## List Bucket Contents"
   ]
  },
  {
   "cell_type": "code",
   "execution_count": 17,
   "id": "f6f5057e-c0fb-41eb-a140-bb2e2c0c043f",
   "metadata": {},
   "outputs": [
    {
     "data": {
      "text/plain": [
       "['Margins.csv',\n",
       " 'Products.csv',\n",
       " 'Sentiment.csv',\n",
       " 'activity.csv',\n",
       " 'debug.fake',\n",
       " 'hipster1.jpeg',\n",
       " 'hipster2.jpeg',\n",
       " 'hipster3.jpeg',\n",
       " 'imageFilename.yaml',\n",
       " 'package.json',\n",
       " 'rag_out.txt',\n",
       " 'res_arcana_rulebook.txt',\n",
       " 'res_arcana_state.txt',\n",
       " 'soup.png',\n",
       " 'test.txt',\n",
       " 'test/AirFreightResults.csv',\n",
       " 'test/ebp-retail-reco.yaml']"
      ]
     },
     "execution_count": 17,
     "metadata": {},
     "output_type": "execute_result"
    }
   ],
   "source": [
    "session.list_data()"
   ]
  },
  {
   "cell_type": "markdown",
   "id": "81394aa6-2cec-4648-be2b-4facf845d2dd",
   "metadata": {},
   "source": [
    "## Load Data\n",
    "### Supported types\n",
    "* CSV (as DataFrame)\n",
    "* Text (`.txt`, `.md`, `.out`)\n",
    "* Images (`.jpg`, `.jpeg`, `.png`)\n",
    "* JSON\n",
    "* YAML"
   ]
  },
  {
   "cell_type": "code",
   "execution_count": 24,
   "id": "dc46c925-4432-4c07-a077-608467958f3a",
   "metadata": {},
   "outputs": [],
   "source": [
    "df = session.get_object('Margins.csv')\n",
    "txt_file = session.get_object(\"res_arcana_state.txt\")\n",
    "nested_file = session.get_object(\"test/AirFreightResults.csv\")\n",
    "jpeg_image = session.get_object(\"hipster1.jpeg\")\n",
    "png_image = session.get_object(\"soup.png\")\n",
    "yaml_file = session.get_object(\"imageFilename.yaml\")\n",
    "json_file = session.get_object(\"package.json\")\n",
    "bytes_obj = session.get_object_bytes(\"rag_out.txt\")"
   ]
  },
  {
   "cell_type": "code",
   "execution_count": 33,
   "id": "4db5e653-4268-4c73-bb10-e24b03949545",
   "metadata": {},
   "outputs": [
    {
     "data": {
      "text/html": [
       "<div>\n",
       "<style scoped>\n",
       "    .dataframe tbody tr th:only-of-type {\n",
       "        vertical-align: middle;\n",
       "    }\n",
       "\n",
       "    .dataframe tbody tr th {\n",
       "        vertical-align: top;\n",
       "    }\n",
       "\n",
       "    .dataframe thead th {\n",
       "        text-align: right;\n",
       "    }\n",
       "</style>\n",
       "<table border=\"1\" class=\"dataframe\">\n",
       "  <thead>\n",
       "    <tr style=\"text-align: right;\">\n",
       "      <th></th>\n",
       "      <th>product_id</th>\n",
       "      <th>product_description</th>\n",
       "      <th>family</th>\n",
       "      <th>cost</th>\n",
       "      <th>selling_price</th>\n",
       "    </tr>\n",
       "  </thead>\n",
       "  <tbody>\n",
       "    <tr>\n",
       "      <th>0</th>\n",
       "      <td>SKU 104</td>\n",
       "      <td>SKU DESC104</td>\n",
       "      <td>Fashion Accessories</td>\n",
       "      <td>14.0</td>\n",
       "      <td>17.0</td>\n",
       "    </tr>\n",
       "    <tr>\n",
       "      <th>1</th>\n",
       "      <td>SKU 110</td>\n",
       "      <td>SKU DESC110</td>\n",
       "      <td>Fashion Accessories</td>\n",
       "      <td>10.0</td>\n",
       "      <td>18.0</td>\n",
       "    </tr>\n",
       "    <tr>\n",
       "      <th>2</th>\n",
       "      <td>SKU 111</td>\n",
       "      <td>SKU DESC111</td>\n",
       "      <td>Fashion Accessories</td>\n",
       "      <td>11.0</td>\n",
       "      <td>14.0</td>\n",
       "    </tr>\n",
       "    <tr>\n",
       "      <th>3</th>\n",
       "      <td>SKU 119</td>\n",
       "      <td>SKU DESC119</td>\n",
       "      <td>Fashion Accessories</td>\n",
       "      <td>15.0</td>\n",
       "      <td>12.0</td>\n",
       "    </tr>\n",
       "    <tr>\n",
       "      <th>4</th>\n",
       "      <td>SKU 126</td>\n",
       "      <td>SKU DESC126</td>\n",
       "      <td>Fashion Accessories</td>\n",
       "      <td>10.0</td>\n",
       "      <td>13.0</td>\n",
       "    </tr>\n",
       "  </tbody>\n",
       "</table>\n",
       "</div>"
      ],
      "text/plain": [
       "  product_id product_description               family  cost  selling_price\n",
       "0    SKU 104         SKU DESC104  Fashion Accessories  14.0           17.0\n",
       "1    SKU 110         SKU DESC110  Fashion Accessories  10.0           18.0\n",
       "2    SKU 111         SKU DESC111  Fashion Accessories  11.0           14.0\n",
       "3    SKU 119         SKU DESC119  Fashion Accessories  15.0           12.0\n",
       "4    SKU 126         SKU DESC126  Fashion Accessories  10.0           13.0"
      ]
     },
     "execution_count": 33,
     "metadata": {},
     "output_type": "execute_result"
    }
   ],
   "source": [
    "df.head()"
   ]
  },
  {
   "cell_type": "markdown",
   "id": "d4c8a809-eb84-42e7-98e0-445c8e58d449",
   "metadata": {},
   "source": [
    "### Direct bytes access\n",
    "\n",
    "For unsupported file extensions, `session.get_object()` will throw an error. In these cases, you can use `session.get_object_bytes()`."
   ]
  },
  {
   "cell_type": "code",
   "execution_count": 28,
   "id": "de2ae310-5970-45f2-90af-1c7d47296a58",
   "metadata": {},
   "outputs": [
    {
     "name": "stdout",
     "output_type": "stream",
     "text": [
      "Unsupported file extension: fake. Use method get_object_bytes() to access this object.\n"
     ]
    }
   ],
   "source": [
    "try:\n",
    "    unsupported_file = session.get_object(\"debug.fake\")\n",
    "except Exception as e:\n",
    "    print(e)"
   ]
  },
  {
   "cell_type": "code",
   "execution_count": 32,
   "id": "01173a16-e4bd-49e3-9bdd-e7689190c508",
   "metadata": {},
   "outputs": [
    {
     "data": {
      "text/plain": [
       "b'title: TNE-hosted CodeLlama Daemon\\nmodel:\\n  engine_name: openai-gpt\\n  model_name: gpt-4-1106-preview\\n  api_key: OPENAI_API_KEY\\ntemperature: 0\\nmax_tokens: 1000\\nstream: True\\nform: \"Q: {question}\"\\nprompt: |\\n  You\\'ll be given some buggy Python code pertaining to operations on the given Pandas dataframes. You\\'ll also be given an error message. \\n  Given this information, first explain what in the code led to the error you were given. Then, return the code snippet debugged, fixing\\n  the issue you\\'ve identified. Take special care to ensure that the code correctly corresponds to the dataframe columns. \\n  \\n  Return the debugged Python inside backticks so like this ```python\\\\n<CODE>\\\\n```. This will ensure that it can be rendered nicely with markdown.\\n  \\n  It is crucial that you not put anything but valid Python code inside these backticks, as I will be parsing and running the code inside directly,\\n  and my career depends on it so I will be incredibly upset if it doesn\\'t work.\\n  \\n  If you see any loading of the dataframes (AKA, de-serializing it, loading from a CSV, etc.), remove this and ensure the code only deals with the \\n  variable names of the provided dataframes. The scope is passed into the context that runs this code. However, ensure that imports and the rest\\n  remain untouched.'"
      ]
     },
     "execution_count": 32,
     "metadata": {},
     "output_type": "execute_result"
    }
   ],
   "source": [
    "unsupported_file_bytes = session.get_object_bytes(\"debug.fake\")\n",
    "unsupported_file_bytes"
   ]
  }
 ],
 "metadata": {
  "kernelspec": {
   "display_name": "Python 3 (ipykernel)",
   "language": "python",
   "name": "python3"
  },
  "language_info": {
   "codemirror_mode": {
    "name": "ipython",
    "version": 3
   },
   "file_extension": ".py",
   "mimetype": "text/x-python",
   "name": "python",
   "nbconvert_exporter": "python",
   "pygments_lexer": "ipython3",
   "version": "3.11.5"
  }
 },
 "nbformat": 4,
 "nbformat_minor": 5
}
